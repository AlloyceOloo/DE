{
 "cells": [
  {
   "cell_type": "markdown",
   "id": "2bfea937",
   "metadata": {},
   "source": [
    "# Streaming data from a csv file with PySpark\n",
    "\n",
    "> A simple demo showing how to stream data from a CSV file on a local directory.\n",
    "\n",
    "- title: \"Structred Streaming with PySpark\"\n",
    "- toc: true\n",
    "- comments: true"
   ]
  },
  {
   "cell_type": "markdown",
   "id": "823b94ef",
   "metadata": {},
   "source": [
    "### Install the necessary packages"
   ]
  },
  {
   "cell_type": "code",
   "execution_count": 1,
   "id": "29bf1be0",
   "metadata": {},
   "outputs": [],
   "source": [
    "from pyspark.sql import SparkSession\n",
    "from pyspark.sql.functions import *\n",
    "from pyspark.sql.types import *"
   ]
  },
  {
   "cell_type": "markdown",
   "id": "be47a933",
   "metadata": {},
   "source": [
    "### Create a Spark Session"
   ]
  },
  {
   "cell_type": "code",
   "execution_count": 2,
   "id": "e7a12492",
   "metadata": {},
   "outputs": [],
   "source": [
    "spark = SparkSession \\\n",
    "        .builder \\\n",
    "        .appName(\"ScrapedProps\") \\\n",
    "        .master(\"local[4]\") \\\n",
    "        .getOrCreate()"
   ]
  },
  {
   "cell_type": "markdown",
   "id": "2cd1b422",
   "metadata": {},
   "source": [
    "### Define a schema for your data (necessary for Structured Streams)"
   ]
  },
  {
   "cell_type": "code",
   "execution_count": 3,
   "id": "3ce589cc",
   "metadata": {},
   "outputs": [],
   "source": [
    "schema1 = StructType([StructField('Property Title', StringType(), True),\n",
    "                     StructField('Property Price', DoubleType(), True),\n",
    "                     StructField('Property Location', StringType(), True),\n",
    "                     StructField('Property Bedrooms', DoubleType(), True),\n",
    "                     StructField('Property Bathrooms', DoubleType(), True),\n",
    "                     StructField('DistanceFromCBD', DoubleType(), True)])"
   ]
  },
  {
   "cell_type": "markdown",
   "id": "c40981b2",
   "metadata": {},
   "source": [
    "### Load the data into a streaming dataframe"
   ]
  },
  {
   "cell_type": "code",
   "execution_count": 4,
   "id": "0f90a0eb",
   "metadata": {},
   "outputs": [],
   "source": [
    "rentalprops = spark.readStream.format(\"csv\").schema(schema1)\\\n",
    "                .option(\"header\",None).load(r\"/home/alloyce/sparkdata1\")"
   ]
  },
  {
   "cell_type": "markdown",
   "id": "b2d2cb9c",
   "metadata": {},
   "source": [
    "### Check the status of the stream"
   ]
  },
  {
   "cell_type": "code",
   "execution_count": 5,
   "id": "0db4de52",
   "metadata": {},
   "outputs": [
    {
     "data": {
      "text/plain": [
       "True"
      ]
     },
     "execution_count": 5,
     "metadata": {},
     "output_type": "execute_result"
    }
   ],
   "source": [
    "rentalprops.isStreaming"
   ]
  },
  {
   "cell_type": "markdown",
   "id": "5cbbb6dd",
   "metadata": {},
   "source": [
    "### Check the schema of the dataframe"
   ]
  },
  {
   "cell_type": "code",
   "execution_count": 6,
   "id": "c446944f",
   "metadata": {},
   "outputs": [
    {
     "name": "stdout",
     "output_type": "stream",
     "text": [
      "root\n",
      " |-- Property Title: string (nullable = true)\n",
      " |-- Property Price: double (nullable = true)\n",
      " |-- Property Location: string (nullable = true)\n",
      " |-- Property Bedrooms: double (nullable = true)\n",
      " |-- Property Bathrooms: double (nullable = true)\n",
      " |-- DistanceFromCBD: double (nullable = true)\n",
      "\n"
     ]
    }
   ],
   "source": [
    "rentalprops.printSchema()"
   ]
  },
  {
   "cell_type": "markdown",
   "id": "47b2de51",
   "metadata": {},
   "source": [
    "### Final Code"
   ]
  },
  {
   "cell_type": "code",
   "execution_count": null,
   "id": "ec603a88",
   "metadata": {},
   "outputs": [],
   "source": [
    "from pyspark.sql import SparkSession\n",
    "from pyspark.sql.functions import *\n",
    "from pyspark.sql.types import *\n",
    "\n",
    "spark = SparkSession \\\n",
    "        .builder \\\n",
    "        .appName(\"ScrapedProps\") \\\n",
    "        .master(\"local[4]\") \\\n",
    "        .getOrCreate()\n",
    "\n",
    "schema1 = StructType([StructField('Property Title', StringType(), True),\n",
    "                     StructField('Property Price', DoubleType(), True),\n",
    "                     StructField('Property Location', StringType(), True),\n",
    "                     StructField('Property Bedrooms', DoubleType(), True),\n",
    "                     StructField('Property Bathrooms', DoubleType(), True),\n",
    "                     StructField('DistanceFromCBD', DoubleType(), True)])\n",
    "\n",
    "rentalprops = spark.readStream.format(\"csv\").schema(schema1)\\\n",
    "                .option(\"header\",None).load(r\"/home/alloyce/sparkdata1\")\n",
    "\n",
    "check1 = rentalprops.isStreaming\n",
    "\n",
    "schemacheck1 = rentalprops.printSchema()\n"
   ]
  }
 ],
 "metadata": {
  "kernelspec": {
   "display_name": "Python 3",
   "language": "python",
   "name": "python3"
  },
  "language_info": {
   "codemirror_mode": {
    "name": "ipython",
    "version": 3
   },
   "file_extension": ".py",
   "mimetype": "text/x-python",
   "name": "python",
   "nbconvert_exporter": "python",
   "pygments_lexer": "ipython3",
   "version": "3.8.5"
  }
 },
 "nbformat": 4,
 "nbformat_minor": 5
}
