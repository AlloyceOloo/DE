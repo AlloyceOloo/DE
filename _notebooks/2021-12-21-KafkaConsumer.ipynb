{
 "cells": [
  {
   "cell_type": "markdown",
   "id": "9e0a6195",
   "metadata": {},
   "source": [
    "# Consuming scraped data from a Kafka Topic in Python\n",
    "\n",
    "> A follow up tutorial on how to consume data from a Kafka topic in Python.(KafkaConsumer)\n",
    "\n",
    "- title: \"Web Scraping with Apache Kafka\"\n",
    "- toc: true\n",
    "- branch: master\n",
    "- comments: true\n",
    "- categories: [fastpages, jupyter]"
   ]
  },
  {
   "cell_type": "markdown",
   "id": "6f0b2c39",
   "metadata": {},
   "source": [
    "## Install the necessary packages"
   ]
  },
  {
   "cell_type": "code",
   "execution_count": null,
   "id": "d1cd6486",
   "metadata": {},
   "outputs": [],
   "source": [
    "import json\n",
    "import numpy as np\n",
    "from json import loads\n",
    "from json import JSONEncoder\n",
    "from kafka import KafkaConsumer\n",
    "import pandas as pd\n",
    "import googlemaps\n",
    "from geopy import distance\n",
    "import numpy as np\n",
    "from csv import DictWriter\n",
    "from kafka import KafkaConsumer"
   ]
  },
  {
   "cell_type": "markdown",
   "id": "ae6edcc1",
   "metadata": {},
   "source": [
    "## Define your google maps api key for geocoding"
   ]
  },
  {
   "cell_type": "code",
   "execution_count": null,
   "id": "7627f1e7",
   "metadata": {},
   "outputs": [],
   "source": [
    "gmaps_key = googlemaps.Client(key=\"\")"
   ]
  },
  {
   "cell_type": "markdown",
   "id": "f459b9fd",
   "metadata": {},
   "source": [
    "## Define the Kafka Consumer to run locally"
   ]
  },
  {
   "cell_type": "code",
   "execution_count": null,
   "id": "b6ea1943",
   "metadata": {},
   "outputs": [],
   "source": [
    "consumer = KafkaConsumer(\n",
    "        'scrapeTut10',\n",
    "        bootstrap_servers = ['localhost:9092'],\n",
    "        auto_offset_reset = 'earliest',\n",
    "        value_deserializer = lambda x:loads(x.decode('utf-8'))\n",
    ")"
   ]
  },
  {
   "cell_type": "markdown",
   "id": "ee6270df",
   "metadata": {},
   "source": [
    "## Define the headers to be used in the CSV file"
   ]
  },
  {
   "cell_type": "code",
   "execution_count": null,
   "id": "fc8da077",
   "metadata": {},
   "outputs": [],
   "source": [
    "field_names = ['Property Title', 'Property Price', 'Property Location', 'Property Bedrooms', 'Property Bathrooms', 'DistanceFromCBD']"
   ]
  },
  {
   "cell_type": "markdown",
   "id": "7cf437bd",
   "metadata": {},
   "source": [
    "## Begin consuming messages from the kafka topic, make necessary adjustments"
   ]
  },
  {
   "cell_type": "code",
   "execution_count": null,
   "id": "80933082",
   "metadata": {},
   "outputs": [],
   "source": [
    "for message in consumer:\n",
    "    #python dictionary(nested) to save messages\n",
    "    data1 = json.loads(message.value)\n",
    "\n",
    "    #needed to switch from dictionary to dataframe for easier geocoding\n",
    "    df1 = pd.DataFrame(data1)\n",
    "\n",
    "    #eliminates the extra key in the dict, no longer nested\n",
    "    data2 = df1.to_dict('list')\n",
    "\n",
    "    df2 = pd.DataFrame(data2)\n",
    "\n",
    "    #address for geocoding to coordinates\n",
    "    add_1 = df2['Property Location'][0]"
   ]
  },
  {
   "cell_type": "markdown",
   "id": "825f769a",
   "metadata": {},
   "source": [
    "## Begin geocoding the data, and appending to CSV"
   ]
  },
  {
   "cell_type": "code",
   "execution_count": null,
   "id": "7a04433c",
   "metadata": {},
   "outputs": [],
   "source": [
    "#makes sure the address contains values else fills in a none value for distance from cbd\n",
    "    if(len(add_1) != 0):\n",
    "        try:\n",
    "            g_add = gmaps_key.geocode(add_1)\n",
    "\n",
    "            lat_add = g_add[0][\"geometry\"][\"location\"][\"lat\"]\n",
    "            long_add = g_add[0][\"geometry\"][\"location\"][\"lng\"]\n",
    "\n",
    "            #address for the central business district\n",
    "            g_cbd = gmaps_key.geocode('Central Business District, Nairobi')\n",
    "\n",
    "            lat_cbd = g_cbd[0][\"geometry\"][\"location\"][\"lat\"]\n",
    "            long_cbd = g_cbd[0][\"geometry\"][\"location\"][\"lng\"]\n",
    "\n",
    "            #calculates distance between cbd and property address\n",
    "            def hav_dist(lat, lat2, long, long2):\n",
    "                r = 6371\n",
    "                phi1 = np.radians(lat)\n",
    "                phi2 = np.radians(lat2)\n",
    "                delta_phi = np.radians(lat2 - lat)\n",
    "                delta_lambda = np.radians(long2 - long)\n",
    "                a = np.sin(delta_phi/2)**2 + np.cos(phi1) * np.cos(phi2) * np.sin(delta_lambda / 2)**2\n",
    "                res = r * (2 * np.arctan2(np.sqrt(a), np.sqrt(1-a)))\n",
    "                return np.round(res, 2)\n",
    "\n",
    "            distance = hav_dist(lat_add, lat_cbd, long_add, long_cbd)\n",
    "\n",
    "            df2['DistanceFromCBD'] = distance\n",
    "\n",
    "        #in case google maps can't geocode an address returns a none for distance from cbd\n",
    "        except Exception as e:\n",
    "            print(e)\n",
    "            df2['DistanceFromCBD'] = None\n",
    "    else:\n",
    "        df2['DistanceFromCBD'] = None\n",
    "\n",
    "    df2['DistanceFromCBD'] = df2['DistanceFromCBD'].astype(float)\n",
    "    df2['Property Price'] = df2['Property Price'].astype(float)\n",
    "    df2['Property Bedrooms'] = df2['Property Bedrooms'].astype(float)\n",
    "    df2['Property Bathrooms'] = df2['Property Bathrooms'].astype(float)\n",
    "\n",
    "    #dictionary to append to a csv file\n",
    "    data3 = df2.to_dict('list')"
   ]
  },
  {
   "cell_type": "markdown",
   "id": "35eb49c4",
   "metadata": {},
   "source": [
    "## Lastly append the new data to a CSV file"
   ]
  },
  {
   "cell_type": "code",
   "execution_count": null,
   "id": "196df473",
   "metadata": {},
   "outputs": [],
   "source": [
    "#passing data3 dictionary to append to the props1.csv\n",
    "    with open('sparkdata1/props5.csv', 'a') as f_object:\n",
    "\n",
    "        dictwriter_object = DictWriter(f_object, fieldnames = field_names)\n",
    "\n",
    "        dictwriter_object.writerow(data3)\n",
    "\n",
    "\n",
    "        f_object.close()"
   ]
  },
  {
   "cell_type": "markdown",
   "id": "12c08c9b",
   "metadata": {},
   "source": [
    "## Final code"
   ]
  },
  {
   "cell_type": "code",
   "execution_count": null,
   "id": "a60807cd",
   "metadata": {},
   "outputs": [],
   "source": [
    "def main():\n",
    "\n",
    "    import json\n",
    "    import numpy as np\n",
    "    from json import loads\n",
    "    from json import JSONEncoder\n",
    "    from kafka import KafkaConsumer\n",
    "    import pandas as pd\n",
    "    import googlemaps\n",
    "    from geopy import distance\n",
    "    import numpy as np\n",
    "    from csv import DictWriter\n",
    "    from kafka import KafkaConsumer\n",
    "\n",
    "    #need a google maps api key to use geocoding\n",
    "    gmaps_key = googlemaps.Client(key=\"\")\n",
    "\n",
    "    #kafka consumer, running locally\n",
    "    \n",
    "    consumer = KafkaConsumer(\n",
    "        'scrapeTut10',\n",
    "        bootstrap_servers = ['localhost:9092'],\n",
    "        auto_offset_reset = 'earliest',\n",
    "        value_deserializer = lambda x:loads(x.decode('utf-8'))\n",
    "    )\n",
    "    \n",
    "    field_names = ['Property Title', 'Property Price', 'Property Location', 'Property Bedrooms', 'Property Bathrooms', 'DistanceFromCBD']\n",
    "\n",
    "    for message in consumer:\n",
    "        #python dictionary(nested) to save messages\n",
    "        data1 = json.loads(message.value)\n",
    "        \n",
    "        #needed to switch from dictionary to dataframe for easier geocoding\n",
    "        df1 = pd.DataFrame(data1)\n",
    "        \n",
    "        #eliminates the extra key in the dict, no longer nested\n",
    "        data2 = df1.to_dict('list')\n",
    "       \n",
    "        df2 = pd.DataFrame(data2)\n",
    "        \n",
    "        #address for geocoding to coordinates\n",
    "        add_1 = df2['Property Location'][0]\n",
    "    \n",
    "        #makes sure the address contains values else fills in a none value for distance from cbd\n",
    "        if(len(add_1) != 0):\n",
    "            try:\n",
    "                g_add = gmaps_key.geocode(add_1)\n",
    "\n",
    "                lat_add = g_add[0][\"geometry\"][\"location\"][\"lat\"]\n",
    "                long_add = g_add[0][\"geometry\"][\"location\"][\"lng\"]\n",
    "                \n",
    "                #address for the central business district\n",
    "                g_cbd = gmaps_key.geocode('Central Business District, Nairobi')\n",
    "\n",
    "                lat_cbd = g_cbd[0][\"geometry\"][\"location\"][\"lat\"]\n",
    "                long_cbd = g_cbd[0][\"geometry\"][\"location\"][\"lng\"]\n",
    "                \n",
    "                #calculates distance between cbd and property address\n",
    "                def hav_dist(lat, lat2, long, long2):\n",
    "                    r = 6371\n",
    "                    phi1 = np.radians(lat)\n",
    "                    phi2 = np.radians(lat2)\n",
    "                    delta_phi = np.radians(lat2 - lat)\n",
    "                    delta_lambda = np.radians(long2 - long)\n",
    "                    a = np.sin(delta_phi/2)**2 + np.cos(phi1) * np.cos(phi2) * np.sin(delta_lambda / 2)**2\n",
    "                    res = r * (2 * np.arctan2(np.sqrt(a), np.sqrt(1-a)))\n",
    "                    return np.round(res, 2)\n",
    "\n",
    "                distance = hav_dist(lat_add, lat_cbd, long_add, long_cbd)\n",
    "\n",
    "                df2['DistanceFromCBD'] = distance\n",
    "            \n",
    "            #in case google maps can't geocode an address returns a none for distance from cbd\n",
    "            except Exception as e:\n",
    "                print(e)\n",
    "                df2['DistanceFromCBD'] = None\n",
    "        else:\n",
    "            df2['DistanceFromCBD'] = None\n",
    "    \n",
    "        df2['DistanceFromCBD'] = df2['DistanceFromCBD'].astype(float)\n",
    "        df2['Property Price'] = df2['Property Price'].astype(float)\n",
    "        df2['Property Bedrooms'] = df2['Property Bedrooms'].astype(float)\n",
    "        df2['Property Bathrooms'] = df2['Property Bathrooms'].astype(float)\n",
    "    \n",
    "        #dictionary to append to a csv file\n",
    "        data3 = df2.to_dict('list')\n",
    "        \n",
    "        #passing data3 dictionary to append to the props1.csv\n",
    "        with open('sparkdata1/props5.csv', 'a') as f_object:\n",
    "            \n",
    "            dictwriter_object = DictWriter(f_object, fieldnames = field_names)\n",
    "            \n",
    "            dictwriter_object.writerow(data3)\n",
    "\n",
    "\n",
    "            f_object.close()\n",
    "\n",
    "\n",
    "if __name__ == '__main__':\n",
    "    main()"
   ]
  }
 ],
 "metadata": {
  "kernelspec": {
   "display_name": "Python 3",
   "language": "python",
   "name": "python3"
  },
  "language_info": {
   "codemirror_mode": {
    "name": "ipython",
    "version": 3
   },
   "file_extension": ".py",
   "mimetype": "text/x-python",
   "name": "python",
   "nbconvert_exporter": "python",
   "pygments_lexer": "ipython3",
   "version": "3.8.5"
  }
 },
 "nbformat": 4,
 "nbformat_minor": 5
}
