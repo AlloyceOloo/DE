{
 "cells": [
  {
   "cell_type": "markdown",
   "id": "084cdc40",
   "metadata": {},
   "source": [
    "# Running the WebScraper with Apache Airflow\n",
    "\n",
    "> A simple demo showing the dag used to run the WebScraper on Airflow.\n",
    "\n",
    "- title: \"Apache Airflow WebScraper\"\n",
    "- toc: true\n",
    "- comments: true"
   ]
  },
  {
   "cell_type": "markdown",
   "id": "9ff10e8d",
   "metadata": {},
   "source": [
    "### Install the necessary packages"
   ]
  },
  {
   "cell_type": "code",
   "execution_count": null,
   "id": "f7c29840",
   "metadata": {},
   "outputs": [],
   "source": [
    "import airflow\n",
    "import datetime\n",
    "from datetime import timedelta\n",
    "from airflow import DAG\n",
    "from airflow.operators.python_operator import PythonOperator\n",
    "from airflow.utils.dates import days_ago"
   ]
  },
  {
   "cell_type": "markdown",
   "id": "4184ca57",
   "metadata": {},
   "source": [
    "### Import the code needed to run the WebScraper"
   ]
  },
  {
   "cell_type": "code",
   "execution_count": null,
   "id": "f23b4ff0",
   "metadata": {},
   "outputs": [],
   "source": [
    "from airflowtest3 import main \n",
    "from airflowtest5 import main1\n",
    "\n",
    "#The two scripts of code are located within the same directory; the dags folder"
   ]
  },
  {
   "cell_type": "markdown",
   "id": "13e8e71b",
   "metadata": {},
   "source": [
    "### Define the default airflow arguments"
   ]
  },
  {
   "cell_type": "code",
   "execution_count": null,
   "id": "65f55bf2",
   "metadata": {},
   "outputs": [],
   "source": [
    "default_args = {\n",
    "\t'owner': 'airflow',\n",
    "\t'depends_on_past': False,\n",
    "\t'start_date': datetime.datetime.now() - datetime.timedelta(days=1),\n",
    "\t'email': ['alloyceoloo5@gmail.com'],\n",
    "\t'email_on_failure': False,\n",
    "\t'email_on_retry': False,\n",
    "\t'retries': 2,\n",
    "\t'retry_delay': timedelta(minutes=1),\n",
    "}"
   ]
  },
  {
   "cell_type": "markdown",
   "id": "97e18a11",
   "metadata": {},
   "source": [
    "### Define the DAG and its relevant arguments"
   ]
  },
  {
   "cell_type": "code",
   "execution_count": null,
   "id": "af70a672",
   "metadata": {},
   "outputs": [],
   "source": [
    "dag = DAG(\n",
    "\t'produce_dag1',\n",
    "\tdefault_args=default_args,\n",
    "\tdescription='Producing rental props',\n",
    "\tschedule_interval=timedelta(days=1),\n",
    ")"
   ]
  },
  {
   "cell_type": "markdown",
   "id": "a7dbc482",
   "metadata": {},
   "source": [
    "### Define the tasks to be run"
   ]
  },
  {
   "cell_type": "code",
   "execution_count": null,
   "id": "9ab457c6",
   "metadata": {},
   "outputs": [],
   "source": [
    "produce_etl = PythonOperator(\n",
    "\ttask_id='Producing_props',\n",
    "\tpython_callable=main,\n",
    "\tdag=dag,\n",
    ")\n",
    "\n",
    "consume_etl = PythonOperator(\n",
    "\ttask_id = 'Consuming_props',\n",
    "\tpython_callable = main1,\n",
    "\tdag=dag,\n",
    ")"
   ]
  },
  {
   "cell_type": "markdown",
   "id": "135665a0",
   "metadata": {},
   "source": [
    "### Define the order for the tasks to run"
   ]
  },
  {
   "cell_type": "code",
   "execution_count": null,
   "id": "c2a45362",
   "metadata": {},
   "outputs": [],
   "source": [
    "produce_etl >> consume_etl"
   ]
  }
 ],
 "metadata": {
  "kernelspec": {
   "display_name": "Python 3",
   "language": "python",
   "name": "python3"
  },
  "language_info": {
   "codemirror_mode": {
    "name": "ipython",
    "version": 3
   },
   "file_extension": ".py",
   "mimetype": "text/x-python",
   "name": "python",
   "nbconvert_exporter": "python",
   "pygments_lexer": "ipython3",
   "version": "3.8.5"
  }
 },
 "nbformat": 4,
 "nbformat_minor": 5
}
